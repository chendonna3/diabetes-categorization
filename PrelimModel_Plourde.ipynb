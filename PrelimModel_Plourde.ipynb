{
 "cells": [
  {
   "cell_type": "code",
   "execution_count": 1,
   "metadata": {},
   "outputs": [],
   "source": [
    "import pandas as pd\n",
    "import numpy as np\n",
    "import matplotlib.pyplot as plt\n",
    "import seaborn as sns\n",
    "import keras\n",
    "from sklearn.model_selection import train_test_split\n",
    "from sklearn.neural_network import MLPClassifier\n",
    "from sklearn.metrics import accuracy_score\n",
    "from sklearn.preprocessing import StandardScaler"
   ]
  },
  {
   "cell_type": "markdown",
   "metadata": {},
   "source": [
    "# Setup dataframe and confirm correlations from EDA"
   ]
  },
  {
   "cell_type": "code",
   "execution_count": 2,
   "metadata": {},
   "outputs": [],
   "source": [
    "data = pd.read_csv('data/diabetes_binary_health_indicators_BRFSS2015.csv')"
   ]
  },
  {
   "cell_type": "code",
   "execution_count": 3,
   "metadata": {},
   "outputs": [],
   "source": [
    "data[\"Diabetes_binary\"] = data[\"Diabetes_binary\"].astype(int)\n",
    "data[\"HighBP\"] = data[\"HighBP\"].astype(int)\n",
    "data[\"HighChol\"] = data[\"HighChol\"].astype(int)\n",
    "data[\"CholCheck\"] = data[\"CholCheck\"].astype(int)\n",
    "data[\"BMI\"] = data[\"BMI\"].astype(int)\n",
    "data[\"Smoker\"] = data[\"Smoker\"].astype(int)\n",
    "data[\"Stroke\"] = data[\"Stroke\"].astype(int)\n",
    "data[\"HeartDiseaseorAttack\"] = data[\"HeartDiseaseorAttack\"].astype(int)\n",
    "data[\"PhysActivity\"] = data[\"PhysActivity\"].astype(int)\n",
    "data[\"Fruits\"] = data[\"Fruits\"].astype(int) \n",
    "data[\"Veggies\"] = data[\"Veggies\"].astype(int)\n",
    "data[\"HvyAlcoholConsump\"] = data[\"HvyAlcoholConsump\"].astype(int)\n",
    "data[\"AnyHealthcare\"] = data[\"AnyHealthcare\"].astype(int)\n",
    "data[\"NoDocbcCost\"] = data[\"NoDocbcCost\"].astype(int)\n",
    "data[\"GenHlth\"] = data[\"GenHlth\"].astype(int)\n",
    "data[\"MentHlth\"] = data[\"MentHlth\"].astype(int)\n",
    "data[\"PhysHlth\"] = data[\"PhysHlth\"].astype(int)\n",
    "data[\"DiffWalk\"] = data[\"DiffWalk\"].astype(int)\n",
    "data[\"Sex\"] = data[\"Sex\"].astype(int)\n",
    "data[\"Age\"] = data[\"Age\"].astype(int)\n",
    "data[\"Education\"] = data[\"Education\"].astype(int)\n",
    "data[\"Income\"] =data[\"Income\"].astype(int)\n",
    "\n"
   ]
  },
  {
   "cell_type": "code",
   "execution_count": 4,
   "metadata": {},
   "outputs": [
    {
     "name": "stdout",
     "output_type": "stream",
     "text": [
      "<class 'pandas.core.frame.DataFrame'>\n",
      "RangeIndex: 253680 entries, 0 to 253679\n",
      "Data columns (total 22 columns):\n",
      " #   Column                Non-Null Count   Dtype\n",
      "---  ------                --------------   -----\n",
      " 0   Diabetes_binary       253680 non-null  int32\n",
      " 1   HighBP                253680 non-null  int32\n",
      " 2   HighChol              253680 non-null  int32\n",
      " 3   CholCheck             253680 non-null  int32\n",
      " 4   BMI                   253680 non-null  int32\n",
      " 5   Smoker                253680 non-null  int32\n",
      " 6   Stroke                253680 non-null  int32\n",
      " 7   HeartDiseaseorAttack  253680 non-null  int32\n",
      " 8   PhysActivity          253680 non-null  int32\n",
      " 9   Fruits                253680 non-null  int32\n",
      " 10  Veggies               253680 non-null  int32\n",
      " 11  HvyAlcoholConsump     253680 non-null  int32\n",
      " 12  AnyHealthcare         253680 non-null  int32\n",
      " 13  NoDocbcCost           253680 non-null  int32\n",
      " 14  GenHlth               253680 non-null  int32\n",
      " 15  MentHlth              253680 non-null  int32\n",
      " 16  PhysHlth              253680 non-null  int32\n",
      " 17  DiffWalk              253680 non-null  int32\n",
      " 18  Sex                   253680 non-null  int32\n",
      " 19  Age                   253680 non-null  int32\n",
      " 20  Education             253680 non-null  int32\n",
      " 21  Income                253680 non-null  int32\n",
      "dtypes: int32(22)\n",
      "memory usage: 21.3 MB\n"
     ]
    }
   ],
   "source": [
    "data.info()"
   ]
  },
  {
   "cell_type": "code",
   "execution_count": 5,
   "metadata": {},
   "outputs": [
    {
     "data": {
      "text/html": [
       "<div>\n",
       "<style scoped>\n",
       "    .dataframe tbody tr th:only-of-type {\n",
       "        vertical-align: middle;\n",
       "    }\n",
       "\n",
       "    .dataframe tbody tr th {\n",
       "        vertical-align: top;\n",
       "    }\n",
       "\n",
       "    .dataframe thead th {\n",
       "        text-align: right;\n",
       "    }\n",
       "</style>\n",
       "<table border=\"1\" class=\"dataframe\">\n",
       "  <thead>\n",
       "    <tr style=\"text-align: right;\">\n",
       "      <th></th>\n",
       "      <th>Diabetes_binary</th>\n",
       "      <th>HighBP</th>\n",
       "      <th>HighChol</th>\n",
       "      <th>CholCheck</th>\n",
       "      <th>BMI</th>\n",
       "      <th>Smoker</th>\n",
       "      <th>Stroke</th>\n",
       "      <th>HeartDiseaseorAttack</th>\n",
       "      <th>PhysActivity</th>\n",
       "      <th>Fruits</th>\n",
       "      <th>...</th>\n",
       "      <th>AnyHealthcare</th>\n",
       "      <th>NoDocbcCost</th>\n",
       "      <th>GenHlth</th>\n",
       "      <th>MentHlth</th>\n",
       "      <th>PhysHlth</th>\n",
       "      <th>DiffWalk</th>\n",
       "      <th>Sex</th>\n",
       "      <th>Age</th>\n",
       "      <th>Education</th>\n",
       "      <th>Income</th>\n",
       "    </tr>\n",
       "  </thead>\n",
       "  <tbody>\n",
       "    <tr>\n",
       "      <th>0</th>\n",
       "      <td>0</td>\n",
       "      <td>1</td>\n",
       "      <td>1</td>\n",
       "      <td>1</td>\n",
       "      <td>40</td>\n",
       "      <td>1</td>\n",
       "      <td>0</td>\n",
       "      <td>0</td>\n",
       "      <td>0</td>\n",
       "      <td>0</td>\n",
       "      <td>...</td>\n",
       "      <td>1</td>\n",
       "      <td>0</td>\n",
       "      <td>5</td>\n",
       "      <td>18</td>\n",
       "      <td>15</td>\n",
       "      <td>1</td>\n",
       "      <td>0</td>\n",
       "      <td>9</td>\n",
       "      <td>4</td>\n",
       "      <td>3</td>\n",
       "    </tr>\n",
       "    <tr>\n",
       "      <th>1</th>\n",
       "      <td>0</td>\n",
       "      <td>0</td>\n",
       "      <td>0</td>\n",
       "      <td>0</td>\n",
       "      <td>25</td>\n",
       "      <td>1</td>\n",
       "      <td>0</td>\n",
       "      <td>0</td>\n",
       "      <td>1</td>\n",
       "      <td>0</td>\n",
       "      <td>...</td>\n",
       "      <td>0</td>\n",
       "      <td>1</td>\n",
       "      <td>3</td>\n",
       "      <td>0</td>\n",
       "      <td>0</td>\n",
       "      <td>0</td>\n",
       "      <td>0</td>\n",
       "      <td>7</td>\n",
       "      <td>6</td>\n",
       "      <td>1</td>\n",
       "    </tr>\n",
       "    <tr>\n",
       "      <th>2</th>\n",
       "      <td>0</td>\n",
       "      <td>1</td>\n",
       "      <td>1</td>\n",
       "      <td>1</td>\n",
       "      <td>28</td>\n",
       "      <td>0</td>\n",
       "      <td>0</td>\n",
       "      <td>0</td>\n",
       "      <td>0</td>\n",
       "      <td>1</td>\n",
       "      <td>...</td>\n",
       "      <td>1</td>\n",
       "      <td>1</td>\n",
       "      <td>5</td>\n",
       "      <td>30</td>\n",
       "      <td>30</td>\n",
       "      <td>1</td>\n",
       "      <td>0</td>\n",
       "      <td>9</td>\n",
       "      <td>4</td>\n",
       "      <td>8</td>\n",
       "    </tr>\n",
       "    <tr>\n",
       "      <th>3</th>\n",
       "      <td>0</td>\n",
       "      <td>1</td>\n",
       "      <td>0</td>\n",
       "      <td>1</td>\n",
       "      <td>27</td>\n",
       "      <td>0</td>\n",
       "      <td>0</td>\n",
       "      <td>0</td>\n",
       "      <td>1</td>\n",
       "      <td>1</td>\n",
       "      <td>...</td>\n",
       "      <td>1</td>\n",
       "      <td>0</td>\n",
       "      <td>2</td>\n",
       "      <td>0</td>\n",
       "      <td>0</td>\n",
       "      <td>0</td>\n",
       "      <td>0</td>\n",
       "      <td>11</td>\n",
       "      <td>3</td>\n",
       "      <td>6</td>\n",
       "    </tr>\n",
       "    <tr>\n",
       "      <th>4</th>\n",
       "      <td>0</td>\n",
       "      <td>1</td>\n",
       "      <td>1</td>\n",
       "      <td>1</td>\n",
       "      <td>24</td>\n",
       "      <td>0</td>\n",
       "      <td>0</td>\n",
       "      <td>0</td>\n",
       "      <td>1</td>\n",
       "      <td>1</td>\n",
       "      <td>...</td>\n",
       "      <td>1</td>\n",
       "      <td>0</td>\n",
       "      <td>2</td>\n",
       "      <td>3</td>\n",
       "      <td>0</td>\n",
       "      <td>0</td>\n",
       "      <td>0</td>\n",
       "      <td>11</td>\n",
       "      <td>5</td>\n",
       "      <td>4</td>\n",
       "    </tr>\n",
       "  </tbody>\n",
       "</table>\n",
       "<p>5 rows × 22 columns</p>\n",
       "</div>"
      ],
      "text/plain": [
       "   Diabetes_binary  HighBP  HighChol  CholCheck  BMI  Smoker  Stroke  \\\n",
       "0                0       1         1          1   40       1       0   \n",
       "1                0       0         0          0   25       1       0   \n",
       "2                0       1         1          1   28       0       0   \n",
       "3                0       1         0          1   27       0       0   \n",
       "4                0       1         1          1   24       0       0   \n",
       "\n",
       "   HeartDiseaseorAttack  PhysActivity  Fruits  ...  AnyHealthcare  \\\n",
       "0                     0             0       0  ...              1   \n",
       "1                     0             1       0  ...              0   \n",
       "2                     0             0       1  ...              1   \n",
       "3                     0             1       1  ...              1   \n",
       "4                     0             1       1  ...              1   \n",
       "\n",
       "   NoDocbcCost  GenHlth  MentHlth  PhysHlth  DiffWalk  Sex  Age  Education  \\\n",
       "0            0        5        18        15         1    0    9          4   \n",
       "1            1        3         0         0         0    0    7          6   \n",
       "2            1        5        30        30         1    0    9          4   \n",
       "3            0        2         0         0         0    0   11          3   \n",
       "4            0        2         3         0         0    0   11          5   \n",
       "\n",
       "   Income  \n",
       "0       3  \n",
       "1       1  \n",
       "2       8  \n",
       "3       6  \n",
       "4       4  \n",
       "\n",
       "[5 rows x 22 columns]"
      ]
     },
     "execution_count": 5,
     "metadata": {},
     "output_type": "execute_result"
    }
   ],
   "source": [
    "data.head()"
   ]
  },
  {
   "cell_type": "code",
   "execution_count": 6,
   "metadata": {},
   "outputs": [],
   "source": [
    "#make a new dataframe with the following columns Diabetes_binary, HighBP, PhysHlth, DiffWalk, BMI, GenHlth, HighChol, HeartDiseaseorAttack, Age\n",
    "Diabetes = data[[ 'HighBP', 'PhysHlth', 'DiffWalk', 'BMI', 'GenHlth', 'HighChol', 'HeartDiseaseorAttack', 'Age']]"
   ]
  },
  {
   "cell_type": "code",
   "execution_count": 7,
   "metadata": {},
   "outputs": [
    {
     "name": "stderr",
     "output_type": "stream",
     "text": [
      "C:\\Users\\shayn\\AppData\\Local\\Temp\\ipykernel_20736\\3404298381.py:2: SettingWithCopyWarning: \n",
      "A value is trying to be set on a copy of a slice from a DataFrame.\n",
      "Try using .loc[row_indexer,col_indexer] = value instead\n",
      "\n",
      "See the caveats in the documentation: https://pandas.pydata.org/pandas-docs/stable/user_guide/indexing.html#returning-a-view-versus-a-copy\n",
      "  Diabetes['y'] = data['Diabetes_binary']\n"
     ]
    }
   ],
   "source": [
    "# copy diabetes_binary from data into data frame Diabetes2\n",
    "Diabetes['y'] = data['Diabetes_binary']"
   ]
  },
  {
   "cell_type": "code",
   "execution_count": 8,
   "metadata": {},
   "outputs": [
    {
     "data": {
      "text/html": [
       "<div>\n",
       "<style scoped>\n",
       "    .dataframe tbody tr th:only-of-type {\n",
       "        vertical-align: middle;\n",
       "    }\n",
       "\n",
       "    .dataframe tbody tr th {\n",
       "        vertical-align: top;\n",
       "    }\n",
       "\n",
       "    .dataframe thead th {\n",
       "        text-align: right;\n",
       "    }\n",
       "</style>\n",
       "<table border=\"1\" class=\"dataframe\">\n",
       "  <thead>\n",
       "    <tr style=\"text-align: right;\">\n",
       "      <th></th>\n",
       "      <th>HighBP</th>\n",
       "      <th>PhysHlth</th>\n",
       "      <th>DiffWalk</th>\n",
       "      <th>BMI</th>\n",
       "      <th>GenHlth</th>\n",
       "      <th>HighChol</th>\n",
       "      <th>HeartDiseaseorAttack</th>\n",
       "      <th>Age</th>\n",
       "      <th>y</th>\n",
       "    </tr>\n",
       "  </thead>\n",
       "  <tbody>\n",
       "    <tr>\n",
       "      <th>206996</th>\n",
       "      <td>0</td>\n",
       "      <td>7</td>\n",
       "      <td>1</td>\n",
       "      <td>27</td>\n",
       "      <td>4</td>\n",
       "      <td>0</td>\n",
       "      <td>0</td>\n",
       "      <td>13</td>\n",
       "      <td>1</td>\n",
       "    </tr>\n",
       "    <tr>\n",
       "      <th>229089</th>\n",
       "      <td>0</td>\n",
       "      <td>0</td>\n",
       "      <td>0</td>\n",
       "      <td>22</td>\n",
       "      <td>2</td>\n",
       "      <td>0</td>\n",
       "      <td>0</td>\n",
       "      <td>6</td>\n",
       "      <td>0</td>\n",
       "    </tr>\n",
       "    <tr>\n",
       "      <th>20012</th>\n",
       "      <td>0</td>\n",
       "      <td>2</td>\n",
       "      <td>0</td>\n",
       "      <td>26</td>\n",
       "      <td>3</td>\n",
       "      <td>0</td>\n",
       "      <td>0</td>\n",
       "      <td>4</td>\n",
       "      <td>0</td>\n",
       "    </tr>\n",
       "    <tr>\n",
       "      <th>1736</th>\n",
       "      <td>1</td>\n",
       "      <td>1</td>\n",
       "      <td>0</td>\n",
       "      <td>33</td>\n",
       "      <td>2</td>\n",
       "      <td>1</td>\n",
       "      <td>0</td>\n",
       "      <td>9</td>\n",
       "      <td>0</td>\n",
       "    </tr>\n",
       "    <tr>\n",
       "      <th>183521</th>\n",
       "      <td>0</td>\n",
       "      <td>2</td>\n",
       "      <td>0</td>\n",
       "      <td>30</td>\n",
       "      <td>2</td>\n",
       "      <td>1</td>\n",
       "      <td>0</td>\n",
       "      <td>13</td>\n",
       "      <td>0</td>\n",
       "    </tr>\n",
       "  </tbody>\n",
       "</table>\n",
       "</div>"
      ],
      "text/plain": [
       "        HighBP  PhysHlth  DiffWalk  BMI  GenHlth  HighChol  \\\n",
       "206996       0         7         1   27        4         0   \n",
       "229089       0         0         0   22        2         0   \n",
       "20012        0         2         0   26        3         0   \n",
       "1736         1         1         0   33        2         1   \n",
       "183521       0         2         0   30        2         1   \n",
       "\n",
       "        HeartDiseaseorAttack  Age  y  \n",
       "206996                     0   13  1  \n",
       "229089                     0    6  0  \n",
       "20012                      0    4  0  \n",
       "1736                       0    9  0  \n",
       "183521                     0   13  0  "
      ]
     },
     "execution_count": 8,
     "metadata": {},
     "output_type": "execute_result"
    }
   ],
   "source": [
    "Diabetes.sample(5)"
   ]
  },
  {
   "cell_type": "code",
   "execution_count": 9,
   "metadata": {},
   "outputs": [
    {
     "data": {
      "text/plain": [
       "(array([0.5, 1.5, 2.5, 3.5, 4.5, 5.5, 6.5, 7.5, 8.5]),\n",
       " [Text(0.5, 1, 'HighBP'),\n",
       "  Text(1.5, 1, 'PhysHlth'),\n",
       "  Text(2.5, 1, 'DiffWalk'),\n",
       "  Text(3.5, 1, 'BMI'),\n",
       "  Text(4.5, 1, 'GenHlth'),\n",
       "  Text(5.5, 1, 'HighChol'),\n",
       "  Text(6.5, 1, 'HeartDiseaseorAttack'),\n",
       "  Text(7.5, 1, 'Age'),\n",
       "  Text(8.5, 1, 'y')])"
      ]
     },
     "execution_count": 9,
     "metadata": {},
     "output_type": "execute_result"
    },
    {
     "data": {
      "image/png": "[encoded data removed]",
      "text/plain": [
       "<Figure size 3000x1000 with 2 Axes>"
      ]
     },
     "metadata": {},
     "output_type": "display_data"
    }
   ],
   "source": [
    "DataCorr_Bin_full = Diabetes.corr(method=\"spearman\")\n",
    "plt.figure(figsize=(30, 10))\n",
    "sns.heatmap(DataCorr_Bin_full, cmap=\"Blues\", annot=True)\n",
    "plt.tick_params(axis='both', which='major', labelsize=9, labelbottom = False, bottom=False, top = False, labeltop=True)\n",
    "plt.xticks(rotation=90)"
   ]
  },
  {
   "cell_type": "markdown",
   "metadata": {},
   "source": [
    "# Start Keras Neural Network"
   ]
  },
  {
   "cell_type": "code",
   "execution_count": 10,
   "metadata": {},
   "outputs": [],
   "source": [
    "Dia_train, Dia_test = train_test_split(Diabetes.copy(),\n",
    "                                              shuffle=True,\n",
    "                                              random_state=123,\n",
    "                                              test_size=.1,\n",
    "                                              stratify=Diabetes.y.values)"
   ]
  },
  {
   "cell_type": "code",
   "execution_count": 11,
   "metadata": {},
   "outputs": [
    {
     "data": {
      "text/html": [
       "<div>\n",
       "<style scoped>\n",
       "    .dataframe tbody tr th:only-of-type {\n",
       "        vertical-align: middle;\n",
       "    }\n",
       "\n",
       "    .dataframe tbody tr th {\n",
       "        vertical-align: top;\n",
       "    }\n",
       "\n",
       "    .dataframe thead th {\n",
       "        text-align: right;\n",
       "    }\n",
       "</style>\n",
       "<table border=\"1\" class=\"dataframe\">\n",
       "  <thead>\n",
       "    <tr style=\"text-align: right;\">\n",
       "      <th></th>\n",
       "      <th>HighBP</th>\n",
       "      <th>PhysHlth</th>\n",
       "      <th>DiffWalk</th>\n",
       "      <th>BMI</th>\n",
       "      <th>GenHlth</th>\n",
       "      <th>HighChol</th>\n",
       "      <th>HeartDiseaseorAttack</th>\n",
       "      <th>Age</th>\n",
       "      <th>y</th>\n",
       "    </tr>\n",
       "  </thead>\n",
       "  <tbody>\n",
       "    <tr>\n",
       "      <th>177034</th>\n",
       "      <td>1</td>\n",
       "      <td>0</td>\n",
       "      <td>0</td>\n",
       "      <td>29</td>\n",
       "      <td>1</td>\n",
       "      <td>1</td>\n",
       "      <td>0</td>\n",
       "      <td>6</td>\n",
       "      <td>0</td>\n",
       "    </tr>\n",
       "    <tr>\n",
       "      <th>186073</th>\n",
       "      <td>0</td>\n",
       "      <td>0</td>\n",
       "      <td>1</td>\n",
       "      <td>22</td>\n",
       "      <td>3</td>\n",
       "      <td>1</td>\n",
       "      <td>0</td>\n",
       "      <td>13</td>\n",
       "      <td>0</td>\n",
       "    </tr>\n",
       "    <tr>\n",
       "      <th>219915</th>\n",
       "      <td>0</td>\n",
       "      <td>2</td>\n",
       "      <td>0</td>\n",
       "      <td>28</td>\n",
       "      <td>2</td>\n",
       "      <td>0</td>\n",
       "      <td>0</td>\n",
       "      <td>7</td>\n",
       "      <td>0</td>\n",
       "    </tr>\n",
       "    <tr>\n",
       "      <th>130971</th>\n",
       "      <td>1</td>\n",
       "      <td>0</td>\n",
       "      <td>0</td>\n",
       "      <td>25</td>\n",
       "      <td>1</td>\n",
       "      <td>1</td>\n",
       "      <td>0</td>\n",
       "      <td>9</td>\n",
       "      <td>0</td>\n",
       "    </tr>\n",
       "    <tr>\n",
       "      <th>153342</th>\n",
       "      <td>0</td>\n",
       "      <td>15</td>\n",
       "      <td>0</td>\n",
       "      <td>24</td>\n",
       "      <td>4</td>\n",
       "      <td>0</td>\n",
       "      <td>0</td>\n",
       "      <td>2</td>\n",
       "      <td>0</td>\n",
       "    </tr>\n",
       "  </tbody>\n",
       "</table>\n",
       "</div>"
      ],
      "text/plain": [
       "        HighBP  PhysHlth  DiffWalk  BMI  GenHlth  HighChol  \\\n",
       "177034       1         0         0   29        1         1   \n",
       "186073       0         0         1   22        3         1   \n",
       "219915       0         2         0   28        2         0   \n",
       "130971       1         0         0   25        1         1   \n",
       "153342       0        15         0   24        4         0   \n",
       "\n",
       "        HeartDiseaseorAttack  Age  y  \n",
       "177034                     0    6  0  \n",
       "186073                     0   13  0  \n",
       "219915                     0    7  0  \n",
       "130971                     0    9  0  \n",
       "153342                     0    2  0  "
      ]
     },
     "execution_count": 11,
     "metadata": {},
     "output_type": "execute_result"
    }
   ],
   "source": [
    "Dia_train.head()"
   ]
  },
  {
   "cell_type": "code",
   "execution_count": 12,
   "metadata": {},
   "outputs": [],
   "source": [
    "Dia_tt, Dia_val = train_test_split(Dia_train,\n",
    "                                       shuffle=True,\n",
    "                                       random_state=294,\n",
    "                                       test_size=.15,\n",
    "                                       stratify=Dia_train.y)"
   ]
  },
  {
   "cell_type": "code",
   "execution_count": 13,
   "metadata": {},
   "outputs": [],
   "source": [
    "scale = StandardScaler()\n",
    "\n",
    "X_tt = scale.fit_transform(Dia_train[Diabetes.columns[:-1]].values)\n",
    "\n",
    "\n",
    "X_val = scale.transform(Dia_val[Diabetes.columns[:-1]].values)\n",
    "\n",
    "y_tt = Dia_train.y.values\n",
    "y_val = Dia_val.y.values"
   ]
  },
  {
   "cell_type": "code",
   "execution_count": 14,
   "metadata": {},
   "outputs": [],
   "source": [
    "from keras import models\n",
    "from keras import layers\n",
    "from keras import optimizers\n",
    "from keras import losses\n",
    "from keras import metrics\n",
    "from keras.utils import to_categorical"
   ]
  },
  {
   "cell_type": "code",
   "execution_count": 15,
   "metadata": {},
   "outputs": [],
   "source": [
    "model1 = models.Sequential()"
   ]
  },
  {
   "cell_type": "code",
   "execution_count": 16,
   "metadata": {},
   "outputs": [],
   "source": [
    "model1.add(layers.Dense(5, activation='relu', input_shape=(X_tt.shape[1],)))"
   ]
  },
  {
   "cell_type": "code",
   "execution_count": 17,
   "metadata": {},
   "outputs": [],
   "source": [
    "model1.add(layers.Dense(1, activation='sigmoid'))"
   ]
  },
  {
   "cell_type": "code",
   "execution_count": 18,
   "metadata": {},
   "outputs": [
    {
     "name": "stdout",
     "output_type": "stream",
     "text": [
      "Model: \"sequential\"\n",
      "_________________________________________________________________\n",
      " Layer (type)                Output Shape              Param #   \n",
      "=================================================================\n",
      " dense (Dense)               (None, 5)                 45        \n",
      "                                                                 \n",
      " dense_1 (Dense)             (None, 1)                 6         \n",
      "                                                                 \n",
      "=================================================================\n",
      "Total params: 51\n",
      "Trainable params: 51\n",
      "Non-trainable params: 0\n",
      "_________________________________________________________________\n"
     ]
    }
   ],
   "source": [
    "model1.summary()"
   ]
  },
  {
   "cell_type": "code",
   "execution_count": 19,
   "metadata": {},
   "outputs": [],
   "source": [
    "model1.compile(optimizer = 'rmsprop',\n",
    "                 loss = 'binary_crossentropy',\n",
    "                 metrics = ['accuracy'])"
   ]
  },
  {
   "cell_type": "code",
   "execution_count": 20,
   "metadata": {},
   "outputs": [
    {
     "name": "stdout",
     "output_type": "stream",
     "text": [
      "Epoch 1/10\n",
      "9133/9133 [==============================] - 7s 712us/step - loss: 0.3341 - accuracy: 0.8562 - val_loss: 0.3171 - val_accuracy: 0.8647\n",
      "Epoch 2/10\n",
      "9133/9133 [==============================] - 6s 703us/step - loss: 0.3180 - accuracy: 0.8648 - val_loss: 0.3154 - val_accuracy: 0.8656\n",
      "Epoch 3/10\n",
      "9133/9133 [==============================] - 7s 716us/step - loss: 0.3174 - accuracy: 0.8650 - val_loss: 0.3151 - val_accuracy: 0.8654\n",
      "Epoch 4/10\n",
      "9133/9133 [==============================] - 6s 707us/step - loss: 0.3172 - accuracy: 0.8651 - val_loss: 0.3152 - val_accuracy: 0.8660\n",
      "Epoch 5/10\n",
      "9133/9133 [==============================] - 7s 719us/step - loss: 0.3171 - accuracy: 0.8650 - val_loss: 0.3148 - val_accuracy: 0.8662\n",
      "Epoch 6/10\n",
      "9133/9133 [==============================] - 7s 717us/step - loss: 0.3171 - accuracy: 0.8651 - val_loss: 0.3147 - val_accuracy: 0.8664\n",
      "Epoch 7/10\n",
      "9133/9133 [==============================] - 7s 719us/step - loss: 0.3171 - accuracy: 0.8651 - val_loss: 0.3152 - val_accuracy: 0.8668\n",
      "Epoch 8/10\n",
      "9133/9133 [==============================] - 7s 720us/step - loss: 0.3171 - accuracy: 0.8653 - val_loss: 0.3151 - val_accuracy: 0.8661\n",
      "Epoch 9/10\n",
      "9133/9133 [==============================] - 6s 691us/step - loss: 0.3171 - accuracy: 0.8657 - val_loss: 0.3146 - val_accuracy: 0.8660\n",
      "Epoch 10/10\n",
      "9133/9133 [==============================] - 6s 688us/step - loss: 0.3171 - accuracy: 0.8654 - val_loss: 0.3147 - val_accuracy: 0.8664\n"
     ]
    }
   ],
   "source": [
    "## You'll train the model for 40 epochs\n",
    "n_epochs = 10\n",
    "\n",
    "history1 = model1.fit(X_tt,\n",
    "                       y_tt,\n",
    "                       epochs = n_epochs,\n",
    "                       batch_size = 25,\n",
    "                       validation_data = (X_val, \n",
    "                                          y_val))"
   ]
  },
  {
   "cell_type": "code",
   "execution_count": 21,
   "metadata": {},
   "outputs": [],
   "source": [
    "from sklearn.decomposition import PCA\n",
    "\n",
    "pca = PCA(3)\n",
    "\n",
    "X_pca_tt = pca.fit_transform(X_tt)\n",
    "X_pca_val = pca.transform(X_val)"
   ]
  },
  {
   "cell_type": "code",
   "execution_count": 22,
   "metadata": {},
   "outputs": [
    {
     "name": "stdout",
     "output_type": "stream",
     "text": [
      "Epoch 1/10\n",
      "9133/9133 [==============================] - 7s 730us/step - loss: 0.3299 - accuracy: 0.8623 - val_loss: 0.3210 - val_accuracy: 0.8649\n",
      "Epoch 2/10\n",
      "9133/9133 [==============================] - 7s 727us/step - loss: 0.3217 - accuracy: 0.8648 - val_loss: 0.3205 - val_accuracy: 0.8655\n",
      "Epoch 3/10\n",
      "9133/9133 [==============================] - 7s 726us/step - loss: 0.3214 - accuracy: 0.8651 - val_loss: 0.3198 - val_accuracy: 0.8656\n",
      "Epoch 4/10\n",
      "9133/9133 [==============================] - 7s 730us/step - loss: 0.3213 - accuracy: 0.8649 - val_loss: 0.3198 - val_accuracy: 0.8660\n",
      "Epoch 5/10\n",
      "9133/9133 [==============================] - 7s 727us/step - loss: 0.3212 - accuracy: 0.8649 - val_loss: 0.3196 - val_accuracy: 0.8656\n",
      "Epoch 6/10\n",
      "9133/9133 [==============================] - 7s 718us/step - loss: 0.3213 - accuracy: 0.8650 - val_loss: 0.3196 - val_accuracy: 0.8661\n",
      "Epoch 7/10\n",
      "9133/9133 [==============================] - 7s 720us/step - loss: 0.3211 - accuracy: 0.8649 - val_loss: 0.3194 - val_accuracy: 0.8659\n",
      "Epoch 8/10\n",
      "9133/9133 [==============================] - 7s 714us/step - loss: 0.3211 - accuracy: 0.8651 - val_loss: 0.3198 - val_accuracy: 0.8659\n",
      "Epoch 9/10\n",
      "9133/9133 [==============================] - 7s 723us/step - loss: 0.3212 - accuracy: 0.8650 - val_loss: 0.3214 - val_accuracy: 0.8650\n",
      "Epoch 10/10\n",
      "9133/9133 [==============================] - 6s 704us/step - loss: 0.3212 - accuracy: 0.8648 - val_loss: 0.3195 - val_accuracy: 0.8656\n"
     ]
    }
   ],
   "source": [
    "model2 =  models.Sequential()\n",
    "\n",
    "model2.add(layers.Dense(5, activation='relu', input_shape=(X_pca_tt.shape[1],)))\n",
    "model2.add(layers.Dense(5, activation='relu'))\n",
    "model2.add(layers.Dense(1, activation='sigmoid'))\n",
    "\n",
    "\n",
    "model2.compile(optimizer = 'rmsprop',\n",
    "                 loss = 'binary_crossentropy',\n",
    "                 metrics = ['accuracy'])\n",
    "\n",
    "\n",
    "history2 = model2.fit(X_pca_tt,\n",
    "                       y_tt,\n",
    "                       epochs = n_epochs,\n",
    "                       batch_size = 25,\n",
    "                       validation_data = (X_pca_val, y_val))"
   ]
  },
  {
   "cell_type": "code",
   "execution_count": 23,
   "metadata": {},
   "outputs": [
    {
     "name": "stdout",
     "output_type": "stream",
     "text": [
      "Epoch 1/10\n",
      "9133/9133 [==============================] - 7s 719us/step - loss: 0.3226 - accuracy: 0.8636 - val_loss: 0.3178 - val_accuracy: 0.8667\n",
      "Epoch 2/10\n",
      "9133/9133 [==============================] - 6s 703us/step - loss: 0.3179 - accuracy: 0.8656 - val_loss: 0.3148 - val_accuracy: 0.8665\n",
      "Epoch 3/10\n",
      "9133/9133 [==============================] - 6s 705us/step - loss: 0.3173 - accuracy: 0.8654 - val_loss: 0.3150 - val_accuracy: 0.8667\n",
      "Epoch 4/10\n",
      "9133/9133 [==============================] - 7s 721us/step - loss: 0.3172 - accuracy: 0.8660 - val_loss: 0.3149 - val_accuracy: 0.8666\n",
      "Epoch 5/10\n",
      "9133/9133 [==============================] - 7s 739us/step - loss: 0.3172 - accuracy: 0.8658 - val_loss: 0.3149 - val_accuracy: 0.8672\n",
      "Epoch 6/10\n",
      "9133/9133 [==============================] - 7s 726us/step - loss: 0.3171 - accuracy: 0.8658 - val_loss: 0.3153 - val_accuracy: 0.8670\n",
      "Epoch 7/10\n",
      "9133/9133 [==============================] - 7s 724us/step - loss: 0.3171 - accuracy: 0.8656 - val_loss: 0.3153 - val_accuracy: 0.8666\n",
      "Epoch 8/10\n",
      "9133/9133 [==============================] - 7s 716us/step - loss: 0.3170 - accuracy: 0.8658 - val_loss: 0.3152 - val_accuracy: 0.8671\n",
      "Epoch 9/10\n",
      "9133/9133 [==============================] - 7s 720us/step - loss: 0.3171 - accuracy: 0.8658 - val_loss: 0.3170 - val_accuracy: 0.8670\n",
      "Epoch 10/10\n",
      "9133/9133 [==============================] - 6s 703us/step - loss: 0.3172 - accuracy: 0.8656 - val_loss: 0.3156 - val_accuracy: 0.8659\n"
     ]
    }
   ],
   "source": [
    "model3 =  models.Sequential()\n",
    "\n",
    "model3.add(layers.Dense(10, activation='relu', input_shape=(X_tt.shape[1],)))\n",
    "model3.add(layers.Dense(10, activation='relu'))\n",
    "model3.add(layers.Dense(1, activation='sigmoid'))\n",
    "\n",
    "\n",
    "model3.compile(optimizer = 'rmsprop',\n",
    "                 loss = 'binary_crossentropy',\n",
    "                 metrics = ['accuracy'])\n",
    "\n",
    "\n",
    "history3 = model3.fit(X_tt,\n",
    "                       y_tt,\n",
    "                       epochs = n_epochs,\n",
    "                       batch_size = 25,\n",
    "                       validation_data = (X_val, y_val))"
   ]
  },
  {
   "cell_type": "code",
   "execution_count": 24,
   "metadata": {},
   "outputs": [
    {
     "data": {
      "image/png": "[encoded data removed]",
      "text/plain": [
       "<Figure size 1000x500 with 1 Axes>"
      ]
     },
     "metadata": {},
     "output_type": "display_data"
    }
   ],
   "source": [
    "plt.figure(figsize=(10,5))\n",
    "\n",
    "plt.scatter(range(1,n_epochs+1), \n",
    "            history1.history['val_accuracy'], \n",
    "            label=\"5x5 network\")\n",
    "\n",
    "plt.scatter(range(1,n_epochs+1), \n",
    "            history2.history['val_accuracy'], \n",
    "            marker='v',\n",
    "            label=\"5x5 network w/ PCA\")\n",
    "\n",
    "plt.scatter(range(1,n_epochs+1), \n",
    "            history3.history['val_accuracy'], \n",
    "            marker='x',\n",
    "            label=\"10x10 network\")\n",
    "\n",
    "plt.xlabel(\"Epoch\", fontsize=12)\n",
    "plt.ylabel(\"Accuracy\", fontsize=12)\n",
    "\n",
    "plt.ylim(.7,.9)\n",
    "\n",
    "\n",
    "plt.legend(fontsize=12)\n",
    "\n",
    "\n",
    "plt.show()"
   ]
  },
  {
   "cell_type": "code",
   "execution_count": 25,
   "metadata": {},
   "outputs": [
    {
     "name": "stdout",
     "output_type": "stream",
     "text": [
      "793/793 [==============================] - 0s 560us/step - loss: 0.3182 - accuracy: 0.8661\n",
      "793/793 [==============================] - 0s 551us/step - loss: 0.3205 - accuracy: 0.8654\n",
      "793/793 [==============================] - 0s 568us/step - loss: 0.3182 - accuracy: 0.8669\n"
     ]
    },
    {
     "data": {
      "text/plain": [
       "[0.31819596886634827, 0.8669189810752869]"
      ]
     },
     "execution_count": 25,
     "metadata": {},
     "output_type": "execute_result"
    }
   ],
   "source": [
    "# test models on  Dia_test\n",
    "\n",
    "X_test = scale.transform(Dia_test[Diabetes.columns[:-1]].values)\n",
    "y_test = Dia_test.y.values\n",
    "\n",
    "X_pca_test = pca.transform(X_test)\n",
    "\n",
    "model1.evaluate(X_test, y_test)\n",
    "\n",
    "model2.evaluate(X_pca_test, y_test)\n",
    "\n",
    "model3.evaluate(X_test, y_test)\n",
    "\n"
   ]
  }
 ],
 "metadata": {
  "kernelspec": {
   "display_name": "Python 3",
   "language": "python",
   "name": "python3"
  },
  "language_info": {
   "codemirror_mode": {
    "name": "ipython",
    "version": 3
   },
   "file_extension": ".py",
   "mimetype": "text/x-python",
   "name": "python",
   "nbconvert_exporter": "python",
   "pygments_lexer": "ipython3",
   "version": "3.10.11"
  }
 },
 "nbformat": 4,
 "nbformat_minor": 2
}
